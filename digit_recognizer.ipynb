{
 "cells": [
  {
   "cell_type": "code",
   "execution_count": 1,
   "id": "43350f8a",
   "metadata": {},
   "outputs": [],
   "source": [
    "import numpy as np\n",
    "import pandas as pd\n",
    "import matplotlib.pyplot as plt\n",
    "\n",
    "import warnings\n",
    "warnings.filterwarnings('ignore')"
   ]
  },
  {
   "cell_type": "code",
   "execution_count": 2,
   "id": "b6c22861",
   "metadata": {},
   "outputs": [],
   "source": [
    "train = pd.read_csv('train.csv')\n",
    "test = pd.read_csv('test.csv')"
   ]
  },
  {
   "cell_type": "code",
   "execution_count": 3,
   "id": "2c5e61b1",
   "metadata": {},
   "outputs": [
    {
     "data": {
      "text/html": [
       "<div>\n",
       "<style scoped>\n",
       "    .dataframe tbody tr th:only-of-type {\n",
       "        vertical-align: middle;\n",
       "    }\n",
       "\n",
       "    .dataframe tbody tr th {\n",
       "        vertical-align: top;\n",
       "    }\n",
       "\n",
       "    .dataframe thead th {\n",
       "        text-align: right;\n",
       "    }\n",
       "</style>\n",
       "<table border=\"1\" class=\"dataframe\">\n",
       "  <thead>\n",
       "    <tr style=\"text-align: right;\">\n",
       "      <th></th>\n",
       "      <th>label</th>\n",
       "      <th>pixel0</th>\n",
       "      <th>pixel1</th>\n",
       "      <th>pixel2</th>\n",
       "      <th>pixel3</th>\n",
       "      <th>pixel4</th>\n",
       "      <th>pixel5</th>\n",
       "      <th>pixel6</th>\n",
       "      <th>pixel7</th>\n",
       "      <th>pixel8</th>\n",
       "      <th>...</th>\n",
       "      <th>pixel774</th>\n",
       "      <th>pixel775</th>\n",
       "      <th>pixel776</th>\n",
       "      <th>pixel777</th>\n",
       "      <th>pixel778</th>\n",
       "      <th>pixel779</th>\n",
       "      <th>pixel780</th>\n",
       "      <th>pixel781</th>\n",
       "      <th>pixel782</th>\n",
       "      <th>pixel783</th>\n",
       "    </tr>\n",
       "  </thead>\n",
       "  <tbody>\n",
       "    <tr>\n",
       "      <th>0</th>\n",
       "      <td>1</td>\n",
       "      <td>0</td>\n",
       "      <td>0</td>\n",
       "      <td>0</td>\n",
       "      <td>0</td>\n",
       "      <td>0</td>\n",
       "      <td>0</td>\n",
       "      <td>0</td>\n",
       "      <td>0</td>\n",
       "      <td>0</td>\n",
       "      <td>...</td>\n",
       "      <td>0</td>\n",
       "      <td>0</td>\n",
       "      <td>0</td>\n",
       "      <td>0</td>\n",
       "      <td>0</td>\n",
       "      <td>0</td>\n",
       "      <td>0</td>\n",
       "      <td>0</td>\n",
       "      <td>0</td>\n",
       "      <td>0</td>\n",
       "    </tr>\n",
       "    <tr>\n",
       "      <th>1</th>\n",
       "      <td>0</td>\n",
       "      <td>0</td>\n",
       "      <td>0</td>\n",
       "      <td>0</td>\n",
       "      <td>0</td>\n",
       "      <td>0</td>\n",
       "      <td>0</td>\n",
       "      <td>0</td>\n",
       "      <td>0</td>\n",
       "      <td>0</td>\n",
       "      <td>...</td>\n",
       "      <td>0</td>\n",
       "      <td>0</td>\n",
       "      <td>0</td>\n",
       "      <td>0</td>\n",
       "      <td>0</td>\n",
       "      <td>0</td>\n",
       "      <td>0</td>\n",
       "      <td>0</td>\n",
       "      <td>0</td>\n",
       "      <td>0</td>\n",
       "    </tr>\n",
       "    <tr>\n",
       "      <th>2</th>\n",
       "      <td>1</td>\n",
       "      <td>0</td>\n",
       "      <td>0</td>\n",
       "      <td>0</td>\n",
       "      <td>0</td>\n",
       "      <td>0</td>\n",
       "      <td>0</td>\n",
       "      <td>0</td>\n",
       "      <td>0</td>\n",
       "      <td>0</td>\n",
       "      <td>...</td>\n",
       "      <td>0</td>\n",
       "      <td>0</td>\n",
       "      <td>0</td>\n",
       "      <td>0</td>\n",
       "      <td>0</td>\n",
       "      <td>0</td>\n",
       "      <td>0</td>\n",
       "      <td>0</td>\n",
       "      <td>0</td>\n",
       "      <td>0</td>\n",
       "    </tr>\n",
       "    <tr>\n",
       "      <th>3</th>\n",
       "      <td>4</td>\n",
       "      <td>0</td>\n",
       "      <td>0</td>\n",
       "      <td>0</td>\n",
       "      <td>0</td>\n",
       "      <td>0</td>\n",
       "      <td>0</td>\n",
       "      <td>0</td>\n",
       "      <td>0</td>\n",
       "      <td>0</td>\n",
       "      <td>...</td>\n",
       "      <td>0</td>\n",
       "      <td>0</td>\n",
       "      <td>0</td>\n",
       "      <td>0</td>\n",
       "      <td>0</td>\n",
       "      <td>0</td>\n",
       "      <td>0</td>\n",
       "      <td>0</td>\n",
       "      <td>0</td>\n",
       "      <td>0</td>\n",
       "    </tr>\n",
       "    <tr>\n",
       "      <th>4</th>\n",
       "      <td>0</td>\n",
       "      <td>0</td>\n",
       "      <td>0</td>\n",
       "      <td>0</td>\n",
       "      <td>0</td>\n",
       "      <td>0</td>\n",
       "      <td>0</td>\n",
       "      <td>0</td>\n",
       "      <td>0</td>\n",
       "      <td>0</td>\n",
       "      <td>...</td>\n",
       "      <td>0</td>\n",
       "      <td>0</td>\n",
       "      <td>0</td>\n",
       "      <td>0</td>\n",
       "      <td>0</td>\n",
       "      <td>0</td>\n",
       "      <td>0</td>\n",
       "      <td>0</td>\n",
       "      <td>0</td>\n",
       "      <td>0</td>\n",
       "    </tr>\n",
       "  </tbody>\n",
       "</table>\n",
       "<p>5 rows × 785 columns</p>\n",
       "</div>"
      ],
      "text/plain": [
       "   label  pixel0  pixel1  pixel2  pixel3  pixel4  pixel5  pixel6  pixel7  \\\n",
       "0      1       0       0       0       0       0       0       0       0   \n",
       "1      0       0       0       0       0       0       0       0       0   \n",
       "2      1       0       0       0       0       0       0       0       0   \n",
       "3      4       0       0       0       0       0       0       0       0   \n",
       "4      0       0       0       0       0       0       0       0       0   \n",
       "\n",
       "   pixel8  ...  pixel774  pixel775  pixel776  pixel777  pixel778  pixel779  \\\n",
       "0       0  ...         0         0         0         0         0         0   \n",
       "1       0  ...         0         0         0         0         0         0   \n",
       "2       0  ...         0         0         0         0         0         0   \n",
       "3       0  ...         0         0         0         0         0         0   \n",
       "4       0  ...         0         0         0         0         0         0   \n",
       "\n",
       "   pixel780  pixel781  pixel782  pixel783  \n",
       "0         0         0         0         0  \n",
       "1         0         0         0         0  \n",
       "2         0         0         0         0  \n",
       "3         0         0         0         0  \n",
       "4         0         0         0         0  \n",
       "\n",
       "[5 rows x 785 columns]"
      ]
     },
     "execution_count": 3,
     "metadata": {},
     "output_type": "execute_result"
    }
   ],
   "source": [
    "train.head()"
   ]
  },
  {
   "cell_type": "code",
   "execution_count": 4,
   "id": "6319f275",
   "metadata": {},
   "outputs": [
    {
     "data": {
      "text/html": [
       "<div>\n",
       "<style scoped>\n",
       "    .dataframe tbody tr th:only-of-type {\n",
       "        vertical-align: middle;\n",
       "    }\n",
       "\n",
       "    .dataframe tbody tr th {\n",
       "        vertical-align: top;\n",
       "    }\n",
       "\n",
       "    .dataframe thead th {\n",
       "        text-align: right;\n",
       "    }\n",
       "</style>\n",
       "<table border=\"1\" class=\"dataframe\">\n",
       "  <thead>\n",
       "    <tr style=\"text-align: right;\">\n",
       "      <th></th>\n",
       "      <th>pixel0</th>\n",
       "      <th>pixel1</th>\n",
       "      <th>pixel2</th>\n",
       "      <th>pixel3</th>\n",
       "      <th>pixel4</th>\n",
       "      <th>pixel5</th>\n",
       "      <th>pixel6</th>\n",
       "      <th>pixel7</th>\n",
       "      <th>pixel8</th>\n",
       "      <th>pixel9</th>\n",
       "      <th>...</th>\n",
       "      <th>pixel774</th>\n",
       "      <th>pixel775</th>\n",
       "      <th>pixel776</th>\n",
       "      <th>pixel777</th>\n",
       "      <th>pixel778</th>\n",
       "      <th>pixel779</th>\n",
       "      <th>pixel780</th>\n",
       "      <th>pixel781</th>\n",
       "      <th>pixel782</th>\n",
       "      <th>pixel783</th>\n",
       "    </tr>\n",
       "  </thead>\n",
       "  <tbody>\n",
       "    <tr>\n",
       "      <th>0</th>\n",
       "      <td>0</td>\n",
       "      <td>0</td>\n",
       "      <td>0</td>\n",
       "      <td>0</td>\n",
       "      <td>0</td>\n",
       "      <td>0</td>\n",
       "      <td>0</td>\n",
       "      <td>0</td>\n",
       "      <td>0</td>\n",
       "      <td>0</td>\n",
       "      <td>...</td>\n",
       "      <td>0</td>\n",
       "      <td>0</td>\n",
       "      <td>0</td>\n",
       "      <td>0</td>\n",
       "      <td>0</td>\n",
       "      <td>0</td>\n",
       "      <td>0</td>\n",
       "      <td>0</td>\n",
       "      <td>0</td>\n",
       "      <td>0</td>\n",
       "    </tr>\n",
       "    <tr>\n",
       "      <th>1</th>\n",
       "      <td>0</td>\n",
       "      <td>0</td>\n",
       "      <td>0</td>\n",
       "      <td>0</td>\n",
       "      <td>0</td>\n",
       "      <td>0</td>\n",
       "      <td>0</td>\n",
       "      <td>0</td>\n",
       "      <td>0</td>\n",
       "      <td>0</td>\n",
       "      <td>...</td>\n",
       "      <td>0</td>\n",
       "      <td>0</td>\n",
       "      <td>0</td>\n",
       "      <td>0</td>\n",
       "      <td>0</td>\n",
       "      <td>0</td>\n",
       "      <td>0</td>\n",
       "      <td>0</td>\n",
       "      <td>0</td>\n",
       "      <td>0</td>\n",
       "    </tr>\n",
       "    <tr>\n",
       "      <th>2</th>\n",
       "      <td>0</td>\n",
       "      <td>0</td>\n",
       "      <td>0</td>\n",
       "      <td>0</td>\n",
       "      <td>0</td>\n",
       "      <td>0</td>\n",
       "      <td>0</td>\n",
       "      <td>0</td>\n",
       "      <td>0</td>\n",
       "      <td>0</td>\n",
       "      <td>...</td>\n",
       "      <td>0</td>\n",
       "      <td>0</td>\n",
       "      <td>0</td>\n",
       "      <td>0</td>\n",
       "      <td>0</td>\n",
       "      <td>0</td>\n",
       "      <td>0</td>\n",
       "      <td>0</td>\n",
       "      <td>0</td>\n",
       "      <td>0</td>\n",
       "    </tr>\n",
       "    <tr>\n",
       "      <th>3</th>\n",
       "      <td>0</td>\n",
       "      <td>0</td>\n",
       "      <td>0</td>\n",
       "      <td>0</td>\n",
       "      <td>0</td>\n",
       "      <td>0</td>\n",
       "      <td>0</td>\n",
       "      <td>0</td>\n",
       "      <td>0</td>\n",
       "      <td>0</td>\n",
       "      <td>...</td>\n",
       "      <td>0</td>\n",
       "      <td>0</td>\n",
       "      <td>0</td>\n",
       "      <td>0</td>\n",
       "      <td>0</td>\n",
       "      <td>0</td>\n",
       "      <td>0</td>\n",
       "      <td>0</td>\n",
       "      <td>0</td>\n",
       "      <td>0</td>\n",
       "    </tr>\n",
       "    <tr>\n",
       "      <th>4</th>\n",
       "      <td>0</td>\n",
       "      <td>0</td>\n",
       "      <td>0</td>\n",
       "      <td>0</td>\n",
       "      <td>0</td>\n",
       "      <td>0</td>\n",
       "      <td>0</td>\n",
       "      <td>0</td>\n",
       "      <td>0</td>\n",
       "      <td>0</td>\n",
       "      <td>...</td>\n",
       "      <td>0</td>\n",
       "      <td>0</td>\n",
       "      <td>0</td>\n",
       "      <td>0</td>\n",
       "      <td>0</td>\n",
       "      <td>0</td>\n",
       "      <td>0</td>\n",
       "      <td>0</td>\n",
       "      <td>0</td>\n",
       "      <td>0</td>\n",
       "    </tr>\n",
       "  </tbody>\n",
       "</table>\n",
       "<p>5 rows × 784 columns</p>\n",
       "</div>"
      ],
      "text/plain": [
       "   pixel0  pixel1  pixel2  pixel3  pixel4  pixel5  pixel6  pixel7  pixel8  \\\n",
       "0       0       0       0       0       0       0       0       0       0   \n",
       "1       0       0       0       0       0       0       0       0       0   \n",
       "2       0       0       0       0       0       0       0       0       0   \n",
       "3       0       0       0       0       0       0       0       0       0   \n",
       "4       0       0       0       0       0       0       0       0       0   \n",
       "\n",
       "   pixel9  ...  pixel774  pixel775  pixel776  pixel777  pixel778  pixel779  \\\n",
       "0       0  ...         0         0         0         0         0         0   \n",
       "1       0  ...         0         0         0         0         0         0   \n",
       "2       0  ...         0         0         0         0         0         0   \n",
       "3       0  ...         0         0         0         0         0         0   \n",
       "4       0  ...         0         0         0         0         0         0   \n",
       "\n",
       "   pixel780  pixel781  pixel782  pixel783  \n",
       "0         0         0         0         0  \n",
       "1         0         0         0         0  \n",
       "2         0         0         0         0  \n",
       "3         0         0         0         0  \n",
       "4         0         0         0         0  \n",
       "\n",
       "[5 rows x 784 columns]"
      ]
     },
     "execution_count": 4,
     "metadata": {},
     "output_type": "execute_result"
    }
   ],
   "source": [
    "test.head()"
   ]
  },
  {
   "cell_type": "code",
   "execution_count": 5,
   "id": "8a45d4cd",
   "metadata": {},
   "outputs": [
    {
     "data": {
      "text/plain": [
       "((42000, 785), (28000, 784))"
      ]
     },
     "execution_count": 5,
     "metadata": {},
     "output_type": "execute_result"
    }
   ],
   "source": [
    "train.shape, test.shape"
   ]
  },
  {
   "cell_type": "code",
   "execution_count": 7,
   "id": "6a8d7ecd",
   "metadata": {},
   "outputs": [],
   "source": [
    "mat_data = test.values.reshape(test.shape[0],28,28,1)"
   ]
  },
  {
   "cell_type": "code",
   "execution_count": 8,
   "id": "23a760e1",
   "metadata": {},
   "outputs": [
    {
     "data": {
      "text/plain": [
       "<matplotlib.image.AxesImage at 0x1db77c84580>"
      ]
     },
     "execution_count": 8,
     "metadata": {},
     "output_type": "execute_result"
    },
    {
     "data": {
      "image/png": "[encoded data removed]",
      "text/plain": [
       "<Figure size 432x288 with 1 Axes>"
      ]
     },
     "metadata": {
      "needs_background": "light"
     },
     "output_type": "display_data"
    }
   ],
   "source": [
    "plt.imshow(mat_data[0])"
   ]
  },
  {
   "cell_type": "code",
   "execution_count": 9,
   "id": "ba3168bc",
   "metadata": {},
   "outputs": [],
   "source": [
    "x_train = train.drop(['label'], axis=1)\n",
    "y_train = train['label']"
   ]
  },
  {
   "cell_type": "code",
   "execution_count": 10,
   "id": "96d4eefc",
   "metadata": {},
   "outputs": [
    {
     "data": {
      "text/plain": [
       "((42000, 784), (42000,))"
      ]
     },
     "execution_count": 10,
     "metadata": {},
     "output_type": "execute_result"
    }
   ],
   "source": [
    "x_train.shape, y_train.shape"
   ]
  },
  {
   "cell_type": "code",
   "execution_count": 13,
   "id": "4a9df2d6",
   "metadata": {},
   "outputs": [
    {
     "data": {
      "image/png": "[encoded data removed]",
      "text/plain": [
       "<Figure size 432x288 with 10 Axes>"
      ]
     },
     "metadata": {},
     "output_type": "display_data"
    }
   ],
   "source": [
    "for digit_num in range(0,10):\n",
    "    plt.subplot(2, 5, digit_num + 1)\n",
    "    mat_data = x_train.values.reshape(x_train.shape[0], 28,28,1)\n",
    "    plt.imshow(mat_data[digit_num])\n",
    "    plt.xticks([])\n",
    "    plt.yticks([])\n",
    "plt.show()"
   ]
  },
  {
   "cell_type": "code",
   "execution_count": 14,
   "id": "8cb8af0a",
   "metadata": {},
   "outputs": [
    {
     "data": {
      "text/plain": [
       "0    1\n",
       "1    0\n",
       "2    1\n",
       "3    4\n",
       "4    0\n",
       "5    0\n",
       "6    7\n",
       "7    3\n",
       "8    5\n",
       "9    3\n",
       "Name: label, dtype: int64"
      ]
     },
     "execution_count": 14,
     "metadata": {},
     "output_type": "execute_result"
    }
   ],
   "source": [
    "y_train[0:10]"
   ]
  },
  {
   "cell_type": "code",
   "execution_count": 15,
   "id": "7594b6f0",
   "metadata": {},
   "outputs": [
    {
     "data": {
      "text/plain": [
       "((42000, 784), (42000,), (28000, 784))"
      ]
     },
     "execution_count": 15,
     "metadata": {},
     "output_type": "execute_result"
    }
   ],
   "source": [
    "x_train.shape, y_train.shape, test.shape"
   ]
  },
  {
   "cell_type": "code",
   "execution_count": 16,
   "id": "ea6ec014",
   "metadata": {},
   "outputs": [],
   "source": [
    "x_train = x_train.astype('float32')/255\n",
    "test = test.astype('float32')/255"
   ]
  },
  {
   "cell_type": "code",
   "execution_count": 17,
   "id": "e0c14196",
   "metadata": {},
   "outputs": [],
   "source": [
    "import tensorflow as tf\n",
    "from tensorflow.keras.models import Sequential\n",
    "from tensorflow.keras.layers import Dense"
   ]
  },
  {
   "cell_type": "code",
   "execution_count": 18,
   "id": "40640fcf",
   "metadata": {},
   "outputs": [],
   "source": [
    "model = Sequential()\n",
    "model.add(Dense(units= 128, activation='relu', input_dim = 784))\n",
    "model.add(Dense(units= 64, activation='relu'))\n",
    "model.add(Dense(units= 32, activation= 'relu'))\n",
    "model.add(Dense(units= 10, activation='softmax'))"
   ]
  },
  {
   "cell_type": "code",
   "execution_count": 19,
   "id": "cf24a82e",
   "metadata": {},
   "outputs": [],
   "source": [
    "model.compile(optimizer='adam', loss=tf.losses.SparseCategoricalCrossentropy(), metrics=['Accuracy'])"
   ]
  },
  {
   "cell_type": "code",
   "execution_count": 20,
   "id": "b6e2db63",
   "metadata": {},
   "outputs": [
    {
     "name": "stdout",
     "output_type": "stream",
     "text": [
      "Model: \"sequential\"\n",
      "_________________________________________________________________\n",
      " Layer (type)                Output Shape              Param #   \n",
      "=================================================================\n",
      " dense (Dense)               (None, 128)               100480    \n",
      "                                                                 \n",
      " dense_1 (Dense)             (None, 64)                8256      \n",
      "                                                                 \n",
      " dense_2 (Dense)             (None, 32)                2080      \n",
      "                                                                 \n",
      " dense_3 (Dense)             (None, 10)                330       \n",
      "                                                                 \n",
      "=================================================================\n",
      "Total params: 111,146\n",
      "Trainable params: 111,146\n",
      "Non-trainable params: 0\n",
      "_________________________________________________________________\n"
     ]
    }
   ],
   "source": [
    "model.summary()"
   ]
  },
  {
   "cell_type": "code",
   "execution_count": 21,
   "id": "bb6f738e",
   "metadata": {},
   "outputs": [
    {
     "name": "stdout",
     "output_type": "stream",
     "text": [
      "Epoch 1/50\n",
      "1050/1050 [==============================] - 4s 3ms/step - loss: 0.3155 - Accuracy: 0.9057 - val_loss: 0.1576 - val_Accuracy: 0.9546\n",
      "Epoch 2/50\n",
      "1050/1050 [==============================] - 2s 2ms/step - loss: 0.1275 - Accuracy: 0.9623 - val_loss: 0.1298 - val_Accuracy: 0.9614\n",
      "Epoch 3/50\n",
      "1050/1050 [==============================] - 2s 2ms/step - loss: 0.0885 - Accuracy: 0.9729 - val_loss: 0.1139 - val_Accuracy: 0.9680\n",
      "Epoch 4/50\n",
      "1050/1050 [==============================] - 2s 2ms/step - loss: 0.0655 - Accuracy: 0.9798 - val_loss: 0.1005 - val_Accuracy: 0.9706\n",
      "Epoch 5/50\n",
      "1050/1050 [==============================] - 2s 2ms/step - loss: 0.0515 - Accuracy: 0.9836 - val_loss: 0.1157 - val_Accuracy: 0.9656\n",
      "Epoch 6/50\n",
      "1050/1050 [==============================] - 2s 2ms/step - loss: 0.0435 - Accuracy: 0.9856 - val_loss: 0.1174 - val_Accuracy: 0.9682\n",
      "Epoch 7/50\n",
      "1050/1050 [==============================] - 2s 2ms/step - loss: 0.0316 - Accuracy: 0.9901 - val_loss: 0.1424 - val_Accuracy: 0.9649\n",
      "Epoch 8/50\n",
      "1050/1050 [==============================] - 2s 2ms/step - loss: 0.0311 - Accuracy: 0.9892 - val_loss: 0.1143 - val_Accuracy: 0.9702\n",
      "Epoch 9/50\n",
      "1050/1050 [==============================] - 2s 2ms/step - loss: 0.0252 - Accuracy: 0.9918 - val_loss: 0.1383 - val_Accuracy: 0.9695\n",
      "Epoch 10/50\n",
      "1050/1050 [==============================] - 2s 2ms/step - loss: 0.0226 - Accuracy: 0.9926 - val_loss: 0.1243 - val_Accuracy: 0.9711\n",
      "Epoch 11/50\n",
      "1050/1050 [==============================] - 2s 2ms/step - loss: 0.0235 - Accuracy: 0.9918 - val_loss: 0.1228 - val_Accuracy: 0.9726\n",
      "Epoch 12/50\n",
      "1050/1050 [==============================] - 2s 2ms/step - loss: 0.0176 - Accuracy: 0.9940 - val_loss: 0.1109 - val_Accuracy: 0.9763\n",
      "Epoch 13/50\n",
      "1050/1050 [==============================] - 2s 2ms/step - loss: 0.0168 - Accuracy: 0.9944 - val_loss: 0.1209 - val_Accuracy: 0.9732\n",
      "Epoch 14/50\n",
      "1050/1050 [==============================] - 2s 2ms/step - loss: 0.0174 - Accuracy: 0.9944 - val_loss: 0.1488 - val_Accuracy: 0.9699\n",
      "Epoch 15/50\n",
      "1050/1050 [==============================] - 2s 2ms/step - loss: 0.0117 - Accuracy: 0.9966 - val_loss: 0.1425 - val_Accuracy: 0.9693\n",
      "Epoch 16/50\n",
      "1050/1050 [==============================] - 2s 2ms/step - loss: 0.0167 - Accuracy: 0.9943 - val_loss: 0.1345 - val_Accuracy: 0.9749\n",
      "Epoch 17/50\n",
      "1050/1050 [==============================] - 2s 2ms/step - loss: 0.0147 - Accuracy: 0.9954 - val_loss: 0.1327 - val_Accuracy: 0.9735\n",
      "Epoch 18/50\n",
      "1050/1050 [==============================] - 2s 2ms/step - loss: 0.0144 - Accuracy: 0.9951 - val_loss: 0.1351 - val_Accuracy: 0.9744\n",
      "Epoch 19/50\n",
      "1050/1050 [==============================] - 2s 2ms/step - loss: 0.0103 - Accuracy: 0.9966 - val_loss: 0.1409 - val_Accuracy: 0.9756\n",
      "Epoch 20/50\n",
      "1050/1050 [==============================] - 2s 2ms/step - loss: 0.0120 - Accuracy: 0.9963 - val_loss: 0.1255 - val_Accuracy: 0.9754\n",
      "Epoch 21/50\n",
      "1050/1050 [==============================] - 2s 2ms/step - loss: 0.0116 - Accuracy: 0.9965 - val_loss: 0.1458 - val_Accuracy: 0.9750\n",
      "Epoch 22/50\n",
      "1050/1050 [==============================] - 2s 2ms/step - loss: 0.0146 - Accuracy: 0.9954 - val_loss: 0.1693 - val_Accuracy: 0.9696\n",
      "Epoch 23/50\n",
      "1050/1050 [==============================] - 2s 2ms/step - loss: 0.0082 - Accuracy: 0.9975 - val_loss: 0.1376 - val_Accuracy: 0.9763\n",
      "Epoch 24/50\n",
      "1050/1050 [==============================] - 2s 2ms/step - loss: 0.0100 - Accuracy: 0.9967 - val_loss: 0.1462 - val_Accuracy: 0.9749\n",
      "Epoch 25/50\n",
      "1050/1050 [==============================] - 2s 2ms/step - loss: 0.0083 - Accuracy: 0.9975 - val_loss: 0.1647 - val_Accuracy: 0.9751\n",
      "Epoch 26/50\n",
      "1050/1050 [==============================] - 2s 2ms/step - loss: 0.0113 - Accuracy: 0.9963 - val_loss: 0.1454 - val_Accuracy: 0.9762\n",
      "Epoch 27/50\n",
      "1050/1050 [==============================] - 2s 2ms/step - loss: 0.0082 - Accuracy: 0.9977 - val_loss: 0.1758 - val_Accuracy: 0.9721\n",
      "Epoch 28/50\n",
      "1050/1050 [==============================] - 2s 2ms/step - loss: 0.0116 - Accuracy: 0.9964 - val_loss: 0.1540 - val_Accuracy: 0.9740\n",
      "Epoch 29/50\n",
      "1050/1050 [==============================] - 2s 2ms/step - loss: 0.0099 - Accuracy: 0.9974 - val_loss: 0.1844 - val_Accuracy: 0.9700\n",
      "Epoch 30/50\n",
      "1050/1050 [==============================] - 2s 2ms/step - loss: 0.0073 - Accuracy: 0.9979 - val_loss: 0.1868 - val_Accuracy: 0.9707\n",
      "Epoch 31/50\n",
      "1050/1050 [==============================] - 2s 2ms/step - loss: 0.0104 - Accuracy: 0.9969 - val_loss: 0.1854 - val_Accuracy: 0.9723\n",
      "Epoch 32/50\n",
      "1050/1050 [==============================] - 2s 2ms/step - loss: 0.0069 - Accuracy: 0.9978 - val_loss: 0.1909 - val_Accuracy: 0.9726\n",
      "Epoch 33/50\n",
      "1050/1050 [==============================] - 2s 2ms/step - loss: 0.0091 - Accuracy: 0.9975 - val_loss: 0.2240 - val_Accuracy: 0.9677\n",
      "Epoch 34/50\n",
      "1050/1050 [==============================] - 2s 2ms/step - loss: 0.0081 - Accuracy: 0.9971 - val_loss: 0.1782 - val_Accuracy: 0.9744\n",
      "Epoch 35/50\n",
      "1050/1050 [==============================] - 2s 2ms/step - loss: 0.0066 - Accuracy: 0.9982 - val_loss: 0.1900 - val_Accuracy: 0.9715\n",
      "Epoch 36/50\n",
      "1050/1050 [==============================] - 2s 2ms/step - loss: 0.0085 - Accuracy: 0.9973 - val_loss: 0.2270 - val_Accuracy: 0.9695\n",
      "Epoch 37/50\n",
      "1050/1050 [==============================] - 2s 2ms/step - loss: 0.0122 - Accuracy: 0.9964 - val_loss: 0.1935 - val_Accuracy: 0.9705\n",
      "Epoch 38/50\n",
      "1050/1050 [==============================] - 2s 2ms/step - loss: 0.0050 - Accuracy: 0.9981 - val_loss: 0.1722 - val_Accuracy: 0.9752\n",
      "Epoch 39/50\n",
      "1050/1050 [==============================] - 2s 2ms/step - loss: 0.0062 - Accuracy: 0.9983 - val_loss: 0.2284 - val_Accuracy: 0.9682\n",
      "Epoch 40/50\n",
      "1050/1050 [==============================] - 2s 2ms/step - loss: 0.0063 - Accuracy: 0.9985 - val_loss: 0.1600 - val_Accuracy: 0.9764\n",
      "Epoch 41/50\n",
      "1050/1050 [==============================] - 2s 2ms/step - loss: 0.0050 - Accuracy: 0.9985 - val_loss: 0.1819 - val_Accuracy: 0.9738\n",
      "Epoch 42/50\n",
      "1050/1050 [==============================] - 2s 2ms/step - loss: 0.0084 - Accuracy: 0.9975 - val_loss: 0.1985 - val_Accuracy: 0.9737\n",
      "Epoch 43/50\n",
      "1050/1050 [==============================] - 2s 2ms/step - loss: 0.0058 - Accuracy: 0.9982 - val_loss: 0.1912 - val_Accuracy: 0.9743\n",
      "Epoch 44/50\n",
      "1050/1050 [==============================] - 2s 2ms/step - loss: 0.0059 - Accuracy: 0.9983 - val_loss: 0.2386 - val_Accuracy: 0.9712\n",
      "Epoch 45/50\n",
      "1050/1050 [==============================] - 2s 2ms/step - loss: 0.0075 - Accuracy: 0.9976 - val_loss: 0.1921 - val_Accuracy: 0.9746\n",
      "Epoch 46/50\n",
      "1050/1050 [==============================] - 2s 2ms/step - loss: 0.0096 - Accuracy: 0.9974 - val_loss: 0.2135 - val_Accuracy: 0.9730\n",
      "Epoch 47/50\n",
      "1050/1050 [==============================] - 2s 2ms/step - loss: 0.0064 - Accuracy: 0.9982 - val_loss: 0.2024 - val_Accuracy: 0.9750\n",
      "Epoch 48/50\n",
      "1050/1050 [==============================] - 2s 2ms/step - loss: 0.0042 - Accuracy: 0.9991 - val_loss: 0.2173 - val_Accuracy: 0.9737\n",
      "Epoch 49/50\n",
      "1050/1050 [==============================] - 2s 2ms/step - loss: 0.0080 - Accuracy: 0.9977 - val_loss: 0.2079 - val_Accuracy: 0.9765\n",
      "Epoch 50/50\n",
      "1050/1050 [==============================] - 2s 2ms/step - loss: 0.0062 - Accuracy: 0.9982 - val_loss: 0.2091 - val_Accuracy: 0.9730\n"
     ]
    }
   ],
   "source": [
    "result = model.fit(x_train, y_train, epochs= 50, shuffle=True, batch_size = 32, validation_split=0.2)"
   ]
  },
  {
   "cell_type": "code",
   "execution_count": 22,
   "id": "76f8a32a",
   "metadata": {},
   "outputs": [],
   "source": [
    "result_df = pd.DataFrame(result.history)"
   ]
  },
  {
   "cell_type": "code",
   "execution_count": 23,
   "id": "6930f9c0",
   "metadata": {},
   "outputs": [
    {
     "data": {
      "text/html": [
       "<div>\n",
       "<style scoped>\n",
       "    .dataframe tbody tr th:only-of-type {\n",
       "        vertical-align: middle;\n",
       "    }\n",
       "\n",
       "    .dataframe tbody tr th {\n",
       "        vertical-align: top;\n",
       "    }\n",
       "\n",
       "    .dataframe thead th {\n",
       "        text-align: right;\n",
       "    }\n",
       "</style>\n",
       "<table border=\"1\" class=\"dataframe\">\n",
       "  <thead>\n",
       "    <tr style=\"text-align: right;\">\n",
       "      <th></th>\n",
       "      <th>loss</th>\n",
       "      <th>Accuracy</th>\n",
       "      <th>val_loss</th>\n",
       "      <th>val_Accuracy</th>\n",
       "    </tr>\n",
       "  </thead>\n",
       "  <tbody>\n",
       "    <tr>\n",
       "      <th>0</th>\n",
       "      <td>0.315520</td>\n",
       "      <td>0.905655</td>\n",
       "      <td>0.157563</td>\n",
       "      <td>0.954643</td>\n",
       "    </tr>\n",
       "    <tr>\n",
       "      <th>1</th>\n",
       "      <td>0.127508</td>\n",
       "      <td>0.962262</td>\n",
       "      <td>0.129814</td>\n",
       "      <td>0.961429</td>\n",
       "    </tr>\n",
       "    <tr>\n",
       "      <th>2</th>\n",
       "      <td>0.088535</td>\n",
       "      <td>0.972946</td>\n",
       "      <td>0.113887</td>\n",
       "      <td>0.967976</td>\n",
       "    </tr>\n",
       "    <tr>\n",
       "      <th>3</th>\n",
       "      <td>0.065457</td>\n",
       "      <td>0.979762</td>\n",
       "      <td>0.100486</td>\n",
       "      <td>0.970595</td>\n",
       "    </tr>\n",
       "    <tr>\n",
       "      <th>4</th>\n",
       "      <td>0.051483</td>\n",
       "      <td>0.983571</td>\n",
       "      <td>0.115671</td>\n",
       "      <td>0.965595</td>\n",
       "    </tr>\n",
       "  </tbody>\n",
       "</table>\n",
       "</div>"
      ],
      "text/plain": [
       "       loss  Accuracy  val_loss  val_Accuracy\n",
       "0  0.315520  0.905655  0.157563      0.954643\n",
       "1  0.127508  0.962262  0.129814      0.961429\n",
       "2  0.088535  0.972946  0.113887      0.967976\n",
       "3  0.065457  0.979762  0.100486      0.970595\n",
       "4  0.051483  0.983571  0.115671      0.965595"
      ]
     },
     "execution_count": 23,
     "metadata": {},
     "output_type": "execute_result"
    }
   ],
   "source": [
    "result_df.head()"
   ]
  },
  {
   "cell_type": "code",
   "execution_count": 24,
   "id": "6382a3e3",
   "metadata": {},
   "outputs": [],
   "source": [
    "pred_ = np.argmax(model.predict(test), axis=1)"
   ]
  },
  {
   "cell_type": "code",
   "execution_count": 25,
   "id": "84c95401",
   "metadata": {},
   "outputs": [],
   "source": [
    "test_val = pd.read_csv('sample_submission.csv')"
   ]
  },
  {
   "cell_type": "code",
   "execution_count": 26,
   "id": "d4a92fd9",
   "metadata": {},
   "outputs": [
    {
     "data": {
      "text/plain": [
       "Index(['ImageId', 'Label'], dtype='object')"
      ]
     },
     "execution_count": 26,
     "metadata": {},
     "output_type": "execute_result"
    }
   ],
   "source": [
    "test_val.columns"
   ]
  },
  {
   "cell_type": "code",
   "execution_count": 27,
   "id": "d388796f",
   "metadata": {},
   "outputs": [],
   "source": [
    "predData01 = pd.DataFrame(pred_)\n",
    "Dataset01 = pd.concat([test_val['ImageId'], predData01], axis=1)"
   ]
  },
  {
   "cell_type": "code",
   "execution_count": 28,
   "id": "78f4c580",
   "metadata": {},
   "outputs": [],
   "source": [
    "Dataset01.columns = ['ImageId','Label']"
   ]
  },
  {
   "cell_type": "code",
   "execution_count": 31,
   "id": "049df0b0",
   "metadata": {},
   "outputs": [],
   "source": [
    "Dataset01.to_csv('sample_submission01.csv', index=False)"
   ]
  },
  {
   "cell_type": "code",
   "execution_count": 30,
   "id": "e9f17e43",
   "metadata": {},
   "outputs": [
    {
     "data": {
      "image/png": "[encoded data removed]",
      "text/plain": [
       "<Figure size 1080x288 with 1 Axes>"
      ]
     },
     "metadata": {
      "needs_background": "light"
     },
     "output_type": "display_data"
    }
   ],
   "source": [
    "plt.figure(figsize = (15,4))\n",
    "plt.plot(result_df.loss, label='Loss')\n",
    "plt.plot(result_df.Accuracy, label='Accuracy')\n",
    "plt.title('Epochs vs Loss and Accuracy')\n",
    "plt.xlabel('Epochs')\n",
    "plt.ylabel('Loss')\n",
    "plt.legend(loc='best')\n",
    "plt.show()"
   ]
  },
  {
   "cell_type": "markdown",
   "id": "dd08e810",
   "metadata": {},
   "source": [
    "## CNN"
   ]
  },
  {
   "cell_type": "code",
   "execution_count": 33,
   "id": "e554e462",
   "metadata": {},
   "outputs": [],
   "source": [
    "from tensorflow.keras.models import Sequential\n",
    "from tensorflow.keras.layers import Dense, Conv2D, MaxPool2D, Flatten"
   ]
  },
  {
   "cell_type": "code",
   "execution_count": 34,
   "id": "0de099fd",
   "metadata": {},
   "outputs": [
    {
     "data": {
      "text/plain": [
       "((42000, 784), (42000,), (28000, 784))"
      ]
     },
     "execution_count": 34,
     "metadata": {},
     "output_type": "execute_result"
    }
   ],
   "source": [
    "x_train.shape, y_train.shape, test.shape"
   ]
  },
  {
   "cell_type": "code",
   "execution_count": 35,
   "id": "1be8f7fa",
   "metadata": {},
   "outputs": [],
   "source": [
    "x_train = x_train.values.reshape(x_train.shape[0], 28,28,1)\n",
    "test = test.values.reshape(test.shape[0], 28,28,1)"
   ]
  },
  {
   "cell_type": "code",
   "execution_count": 36,
   "id": "b253aa57",
   "metadata": {},
   "outputs": [
    {
     "data": {
      "text/plain": [
       "((42000, 28, 28, 1), (42000,), (28000, 28, 28, 1))"
      ]
     },
     "execution_count": 36,
     "metadata": {},
     "output_type": "execute_result"
    }
   ],
   "source": [
    "x_train.shape, y_train.shape, test.shape"
   ]
  },
  {
   "cell_type": "code",
   "execution_count": 37,
   "id": "5c51270e",
   "metadata": {},
   "outputs": [],
   "source": [
    "model = Sequential()\n",
    "model.add(Conv2D(filters= 64, kernel_size=(3,3), activation='relu', input_shape = (28,28,1)))\n",
    "model.add(MaxPool2D(pool_size= 2))\n",
    "model.add(Conv2D(filters= 32, kernel_size= (3,3), activation='relu'))\n",
    "model.add(MaxPool2D(pool_size=2))\n",
    "\n",
    "model.add(Flatten())\n",
    "\n",
    "model.add(Dense(units= 64, activation='relu'))\n",
    "model.add(Dense(units= 32, activation='relu'))\n",
    "model.add(Dense(units= 10, activation='softmax'))"
   ]
  },
  {
   "cell_type": "code",
   "execution_count": 38,
   "id": "a9a2eeec",
   "metadata": {},
   "outputs": [],
   "source": [
    "model.compile(optimizer='adam', loss=tf.losses.SparseCategoricalCrossentropy(), metrics=['accuracy'])"
   ]
  },
  {
   "cell_type": "code",
   "execution_count": 39,
   "id": "dfc42fac",
   "metadata": {},
   "outputs": [
    {
     "name": "stdout",
     "output_type": "stream",
     "text": [
      "Epoch 1/10\n",
      "525/525 [==============================] - 20s 36ms/step - loss: 0.2954 - accuracy: 0.9119 - val_loss: 0.0779 - val_accuracy: 0.9760\n",
      "Epoch 2/10\n",
      "525/525 [==============================] - 18s 34ms/step - loss: 0.0773 - accuracy: 0.9755 - val_loss: 0.0686 - val_accuracy: 0.9769\n",
      "Epoch 3/10\n",
      "525/525 [==============================] - 18s 35ms/step - loss: 0.0589 - accuracy: 0.9821 - val_loss: 0.0496 - val_accuracy: 0.9843\n",
      "Epoch 4/10\n",
      "525/525 [==============================] - 18s 34ms/step - loss: 0.0410 - accuracy: 0.9874 - val_loss: 0.0458 - val_accuracy: 0.9849\n",
      "Epoch 5/10\n",
      "525/525 [==============================] - 18s 34ms/step - loss: 0.0345 - accuracy: 0.9890 - val_loss: 0.0464 - val_accuracy: 0.9856\n",
      "Epoch 6/10\n",
      "525/525 [==============================] - 18s 34ms/step - loss: 0.0268 - accuracy: 0.9913 - val_loss: 0.0525 - val_accuracy: 0.9836\n",
      "Epoch 7/10\n",
      "525/525 [==============================] - 18s 34ms/step - loss: 0.0225 - accuracy: 0.9926 - val_loss: 0.0634 - val_accuracy: 0.9823\n",
      "Epoch 8/10\n",
      "525/525 [==============================] - 18s 34ms/step - loss: 0.0196 - accuracy: 0.9938 - val_loss: 0.0606 - val_accuracy: 0.9835\n",
      "Epoch 9/10\n",
      "525/525 [==============================] - 18s 34ms/step - loss: 0.0154 - accuracy: 0.9949 - val_loss: 0.0796 - val_accuracy: 0.9777\n",
      "Epoch 10/10\n",
      "525/525 [==============================] - 18s 35ms/step - loss: 0.0137 - accuracy: 0.9956 - val_loss: 0.0402 - val_accuracy: 0.9898\n"
     ]
    }
   ],
   "source": [
    "result_ = model.fit(x_train, y_train, epochs= 10, shuffle=True, validation_split= 0.2, batch_size = 64)"
   ]
  },
  {
   "cell_type": "code",
   "execution_count": 40,
   "id": "48ae6acc",
   "metadata": {},
   "outputs": [],
   "source": [
    "result_df_ = pd.DataFrame(result_.history)"
   ]
  },
  {
   "cell_type": "code",
   "execution_count": 41,
   "id": "9b532034",
   "metadata": {},
   "outputs": [
    {
     "data": {
      "text/html": [
       "<div>\n",
       "<style scoped>\n",
       "    .dataframe tbody tr th:only-of-type {\n",
       "        vertical-align: middle;\n",
       "    }\n",
       "\n",
       "    .dataframe tbody tr th {\n",
       "        vertical-align: top;\n",
       "    }\n",
       "\n",
       "    .dataframe thead th {\n",
       "        text-align: right;\n",
       "    }\n",
       "</style>\n",
       "<table border=\"1\" class=\"dataframe\">\n",
       "  <thead>\n",
       "    <tr style=\"text-align: right;\">\n",
       "      <th></th>\n",
       "      <th>loss</th>\n",
       "      <th>accuracy</th>\n",
       "      <th>val_loss</th>\n",
       "      <th>val_accuracy</th>\n",
       "    </tr>\n",
       "  </thead>\n",
       "  <tbody>\n",
       "    <tr>\n",
       "      <th>0</th>\n",
       "      <td>0.295448</td>\n",
       "      <td>0.911905</td>\n",
       "      <td>0.077862</td>\n",
       "      <td>0.975952</td>\n",
       "    </tr>\n",
       "    <tr>\n",
       "      <th>1</th>\n",
       "      <td>0.077257</td>\n",
       "      <td>0.975536</td>\n",
       "      <td>0.068634</td>\n",
       "      <td>0.976905</td>\n",
       "    </tr>\n",
       "    <tr>\n",
       "      <th>2</th>\n",
       "      <td>0.058946</td>\n",
       "      <td>0.982054</td>\n",
       "      <td>0.049588</td>\n",
       "      <td>0.984286</td>\n",
       "    </tr>\n",
       "    <tr>\n",
       "      <th>3</th>\n",
       "      <td>0.041032</td>\n",
       "      <td>0.987411</td>\n",
       "      <td>0.045772</td>\n",
       "      <td>0.984881</td>\n",
       "    </tr>\n",
       "    <tr>\n",
       "      <th>4</th>\n",
       "      <td>0.034531</td>\n",
       "      <td>0.988988</td>\n",
       "      <td>0.046377</td>\n",
       "      <td>0.985595</td>\n",
       "    </tr>\n",
       "    <tr>\n",
       "      <th>5</th>\n",
       "      <td>0.026777</td>\n",
       "      <td>0.991280</td>\n",
       "      <td>0.052512</td>\n",
       "      <td>0.983571</td>\n",
       "    </tr>\n",
       "    <tr>\n",
       "      <th>6</th>\n",
       "      <td>0.022537</td>\n",
       "      <td>0.992589</td>\n",
       "      <td>0.063359</td>\n",
       "      <td>0.982262</td>\n",
       "    </tr>\n",
       "    <tr>\n",
       "      <th>7</th>\n",
       "      <td>0.019607</td>\n",
       "      <td>0.993839</td>\n",
       "      <td>0.060625</td>\n",
       "      <td>0.983452</td>\n",
       "    </tr>\n",
       "    <tr>\n",
       "      <th>8</th>\n",
       "      <td>0.015360</td>\n",
       "      <td>0.994911</td>\n",
       "      <td>0.079564</td>\n",
       "      <td>0.977738</td>\n",
       "    </tr>\n",
       "    <tr>\n",
       "      <th>9</th>\n",
       "      <td>0.013672</td>\n",
       "      <td>0.995625</td>\n",
       "      <td>0.040171</td>\n",
       "      <td>0.989762</td>\n",
       "    </tr>\n",
       "  </tbody>\n",
       "</table>\n",
       "</div>"
      ],
      "text/plain": [
       "       loss  accuracy  val_loss  val_accuracy\n",
       "0  0.295448  0.911905  0.077862      0.975952\n",
       "1  0.077257  0.975536  0.068634      0.976905\n",
       "2  0.058946  0.982054  0.049588      0.984286\n",
       "3  0.041032  0.987411  0.045772      0.984881\n",
       "4  0.034531  0.988988  0.046377      0.985595\n",
       "5  0.026777  0.991280  0.052512      0.983571\n",
       "6  0.022537  0.992589  0.063359      0.982262\n",
       "7  0.019607  0.993839  0.060625      0.983452\n",
       "8  0.015360  0.994911  0.079564      0.977738\n",
       "9  0.013672  0.995625  0.040171      0.989762"
      ]
     },
     "execution_count": 41,
     "metadata": {},
     "output_type": "execute_result"
    }
   ],
   "source": [
    "result_df_"
   ]
  },
  {
   "cell_type": "code",
   "execution_count": 42,
   "id": "85cdcd11",
   "metadata": {},
   "outputs": [
    {
     "data": {
      "image/png": "[encoded data removed]",
      "text/plain": [
       "<Figure size 1080x432 with 1 Axes>"
      ]
     },
     "metadata": {
      "needs_background": "light"
     },
     "output_type": "display_data"
    }
   ],
   "source": [
    "plt.figure(figsize=[15,6])\n",
    "plt.plot(result_df_.loss, label = 'loss')\n",
    "plt.plot(result_df_.accuracy, label = 'Accuracy')\n",
    "plt.legend(loc = 'best')\n",
    "plt.title(\"loss and Accuracy as per Epochs\")\n",
    "plt.xlabel('Epochs')\n",
    "plt.ylabel('loss')\n",
    "plt.show()"
   ]
  },
  {
   "cell_type": "code",
   "execution_count": 43,
   "id": "a5a64a2f",
   "metadata": {},
   "outputs": [],
   "source": [
    "cnn_pred_ = np.argmax(model.predict(test), axis=1)"
   ]
  },
  {
   "cell_type": "code",
   "execution_count": 44,
   "id": "897b2d14",
   "metadata": {},
   "outputs": [
    {
     "data": {
      "text/plain": [
       "array([2, 0, 9, ..., 3, 9, 2], dtype=int64)"
      ]
     },
     "execution_count": 44,
     "metadata": {},
     "output_type": "execute_result"
    }
   ],
   "source": [
    "cnn_pred_"
   ]
  },
  {
   "cell_type": "code",
   "execution_count": 45,
   "id": "14f27842",
   "metadata": {},
   "outputs": [],
   "source": [
    "predData02 = pd.DataFrame(cnn_pred_)\n",
    "Dataset02 = pd.concat([test_val['ImageId'], predData02], axis=1) "
   ]
  },
  {
   "cell_type": "code",
   "execution_count": 47,
   "id": "ee129634",
   "metadata": {},
   "outputs": [],
   "source": [
    "Dataset02.columns = ['ImageId','Label']\n",
    "Dataset02.to_csv('sample_submission02.csv', index=False)"
   ]
  },
  {
   "cell_type": "code",
   "execution_count": null,
   "id": "37d93f14",
   "metadata": {},
   "outputs": [],
   "source": []
  }
 ],
 "metadata": {
  "kernelspec": {
   "display_name": "Python 3",
   "language": "python",
   "name": "python3"
  },
  "language_info": {
   "codemirror_mode": {
    "name": "ipython",
    "version": 3
   },
   "file_extension": ".py",
   "mimetype": "text/x-python",
   "name": "python",
   "nbconvert_exporter": "python",
   "pygments_lexer": "ipython3",
   "version": "3.8.8"
  }
 },
 "nbformat": 4,
 "nbformat_minor": 5
}
